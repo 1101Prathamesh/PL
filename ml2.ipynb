{
  "nbformat": 4,
  "nbformat_minor": 0,
  "metadata": {
    "colab": {
      "provenance": [],
      "collapsed_sections": []
    },
    "kernelspec": {
      "name": "python3",
      "display_name": "Python 3"
    },
    "language_info": {
      "name": "python"
    }
  },
  "cells": [
    {
      "cell_type": "code",
      "execution_count": 3,
      "metadata": {
        "colab": {
          "base_uri": "https://localhost:8080/",
          "height": 877
        },
        "id": "CnU-_frs1Q3i",
        "outputId": "c200660b-f8e2-4a99-e7f6-3e9adfbe3d4a"
      },
      "outputs": [
        {
          "output_type": "stream",
          "name": "stderr",
          "text": [
            "/usr/local/lib/python3.7/dist-packages/sklearn/linear_model/_base.py:145: FutureWarning: 'normalize' was deprecated in version 1.0 and will be removed in 1.2.\n",
            "If you wish to scale the data, use Pipeline with a StandardScaler in a preprocessing stage. To reproduce the previous behavior:\n",
            "\n",
            "from sklearn.pipeline import make_pipeline\n",
            "\n",
            "model = make_pipeline(StandardScaler(with_mean=False), LinearRegression())\n",
            "\n",
            "If you wish to pass a sample_weight parameter, you need to pass it as a fit parameter to each step of the pipeline as follows:\n",
            "\n",
            "kwargs = {s[0] + '__sample_weight': sample_weight for s in model.steps}\n",
            "model.fit(X, y, **kwargs)\n",
            "\n",
            "\n",
            "  FutureWarning,\n"
          ]
        },
        {
          "output_type": "stream",
          "name": "stdout",
          "text": [
            "Coefficients: \n",
            "\n",
            "Intercept: 1.5918\n",
            "Coeff- 0: 1.6206\n"
          ]
        },
        {
          "output_type": "display_data",
          "data": {
            "text/plain": [
              "<Figure size 432x288 with 1 Axes>"
            ],
            "image/png": "[encoded data removed]"
          },
          "metadata": {
            "needs_background": "light"
          }
        },
        {
          "output_type": "stream",
          "name": "stdout",
          "text": [
            "\n",
            " Mean squared error: 0.0914\n"
          ]
        },
        {
          "output_type": "display_data",
          "data": {
            "text/plain": [
              "<Figure size 432x288 with 1 Axes>"
            ],
            "image/png": "[encoded data removed]"
          },
          "metadata": {
            "needs_background": "light"
          }
        }
      ],
      "source": [
        "import numpy as np\n",
        "import matplotlib.pyplot as plt\n",
        "from sklearn.linear_model import LinearRegression\n",
        "from sklearn.model_selection import train_test_split\n",
        "from sklearn.metrics import mean_squared_error\n",
        "from sklearn.preprocessing import PolynomialFeatures\n",
        "from sklearn.pipeline import Pipeline\n",
        "from numpy import random\n",
        "np.random.seed(0)\n",
        "\n",
        "# True Function or Target Function\n",
        "def gen_target(x):\n",
        "   return 2 + (2*x**4)\n",
        "\n",
        "n_records = 500\n",
        "X = np.sort(np.random.rand(n_records))\n",
        "y = gen_target(X) + np.random.randn(n_records) * 0.1\n",
        "X=X.reshape(-1, 1)\n",
        "\n",
        "X_train, X_test, y_train, y_test = train_test_split(X, y, test_size=0.2)\n",
        "lr = LinearRegression(fit_intercept=True, normalize=True)\n",
        "lr.fit(X_train, y_train)\n",
        "y_pred = lr.predict(X_test)\n",
        "\n",
        "print(\"Coefficients: \\n\")\n",
        "print('Intercept: {0:2.4f}'.format(lr.intercept_))\n",
        "for li , coef in enumerate(lr.coef_):\n",
        "   print('Coeff-{0:2d}: {1:2.4f}'.format(li, coef))\n",
        "plt.bar(range(len(lr.coef_)), lr.coef_)\n",
        "plt.xticks(range(len(lr.coef_)))\n",
        "plt.xlabel('Index')\n",
        "plt.ylabel('Coefficient')\n",
        "plt.show()\n",
        "\n",
        "print('\\n Mean squared error: {:2.4f}'.format(mean_squared_error(y_test, y_pred)))\n",
        "if X.shape[1] <2:\n",
        "   plt.figure()\n",
        "   plt.scatter(X_test, y_test, color=\"black\")\n",
        "   plt.plot(X_test, y_pred, color=\"blue\", linewidth=3)\n",
        "\n",
        "plt.show()"
      ]
    }
  ]
}